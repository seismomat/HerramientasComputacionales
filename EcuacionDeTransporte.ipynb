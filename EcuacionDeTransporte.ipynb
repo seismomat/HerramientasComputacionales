{
  "nbformat": 4,
  "nbformat_minor": 0,
  "metadata": {
    "colab": {
      "provenance": [],
      "authorship_tag": "ABX9TyOaWHlp5YxlM9jopOv/FKpA",
      "include_colab_link": true
    },
    "kernelspec": {
      "name": "python3",
      "display_name": "Python 3"
    },
    "language_info": {
      "name": "python"
    }
  },
  "cells": [
    {
      "cell_type": "markdown",
      "metadata": {
        "id": "view-in-github",
        "colab_type": "text"
      },
      "source": [
        "<a href=\"https://colab.research.google.com/github/seismomat/HerramientasComputacionales/blob/main/EcuacionDeTransporte.ipynb\" target=\"_parent\"><img src=\"https://colab.research.google.com/assets/colab-badge.svg\" alt=\"Open In Colab\"/></a>"
      ]
    },
    {
      "cell_type": "code",
      "source": [
        "import numpy as np\n",
        "import matplotlib.pyplot as plt\n",
        "import imageio.v2 as imageio\n",
        "\n",
        "# Parámetros de la ecuación y el dominio\n",
        "L = 10.0         # Longitud del dominio espacial\n",
        "Nx = 100         # Número de puntos en el espacio\n",
        "T = 2.0          # Tiempo total de simulación\n",
        "Nt = 200         # Número de pasos de tiempo\n",
        "c = 1.0          # Velocidad de transporte\n",
        "dx = L / Nx      # Paso espacial\n",
        "dt = T / Nt      # Paso temporal\n",
        "\n",
        "# Estabilidad del esquema\n",
        "sigma = c * dt / dx  # Parámetro de Courant (debe ser <= 1 para estabilidad)\n",
        "\n",
        "# Condiciones iniciales: una función gaussiana\n",
        "x = np.linspace(0, L, Nx)\n",
        "u0 = np.exp(-((x - L/4) ** 2) / (0.1 ** 2))  # Pico gaussiano centrado en L/4\n",
        "\n",
        "# Solución inicial\n",
        "u = u0.copy()\n",
        "frames = []  # Lista para almacenar cada cuadro de la simulación\n",
        "\n",
        "# Función para aplicar el esquema explícito de diferencias finitas\n",
        "def transporte_1d(u, sigma):\n",
        "    u_next = u.copy()\n",
        "    for i in range(1, len(u) - 1):\n",
        "        u_next[i] = u[i] - sigma * (u[i] - u[i - 1])\n",
        "    # Condiciones de frontera periódicas\n",
        "    u_next[0] = u[0] - sigma * (u[0] - u[-2])   # frontera izquierda\n",
        "    u_next[-1] = u_next[0]                      # frontera derecha (periódica)\n",
        "    return u_next\n",
        "\n",
        "# Crear y guardar cada cuadro en la lista de frames\n",
        "for n in range(Nt):\n",
        "    u = transporte_1d(u, sigma)\n",
        "\n",
        "    # Generar el gráfico para el cuadro actual\n",
        "    fig, ax = plt.subplots()\n",
        "    ax.plot(x, u, lw=2, color='blue')\n",
        "    ax.set_xlim(0, L)\n",
        "    ax.set_ylim(-0.1, 1.1)\n",
        "    ax.set_title(f'Tiempo = {n * dt:.2f}s')\n",
        "    ax.set_xlabel('x')\n",
        "    ax.set_ylabel('u(x,t)')\n",
        "\n",
        "    # Guardar el cuadro en la lista de frames\n",
        "    fig.canvas.draw()\n",
        "    image = np.frombuffer(fig.canvas.tostring_rgb(), dtype='uint8')\n",
        "    image = image.reshape(fig.canvas.get_width_height()[::-1] + (3,))\n",
        "    frames.append(image)\n",
        "    plt.close(fig)  # Cerrar la figura para evitar sobrecargar la memoria\n",
        "\n",
        "# Guardar los cuadros como un archivo de video\n",
        "imageio.mimsave('ecuacion_transporte.mp4', frames, fps=20)\n",
        "print(\"Video guardado como ecuacion_transporte.mp4\")\n"
      ],
      "metadata": {
        "colab": {
          "base_uri": "https://localhost:8080/"
        },
        "id": "YBtu0CCMWRu4",
        "outputId": "dd5ba595-bc31-4978-b6cb-faab7b37bdfe"
      },
      "execution_count": 2,
      "outputs": [
        {
          "output_type": "stream",
          "name": "stderr",
          "text": [
            "<ipython-input-2-b8bbd4ae02f2>:50: MatplotlibDeprecationWarning: The tostring_rgb function was deprecated in Matplotlib 3.8 and will be removed two minor releases later. Use buffer_rgba instead.\n",
            "  image = np.frombuffer(fig.canvas.tostring_rgb(), dtype='uint8')\n"
          ]
        },
        {
          "output_type": "stream",
          "name": "stdout",
          "text": [
            "Video guardado como ecuacion_transporte.mp4\n"
          ]
        }
      ]
    },
    {
      "cell_type": "code",
      "source": [],
      "metadata": {
        "id": "B0q5ZOZsWn0z"
      },
      "execution_count": null,
      "outputs": []
    }
  ]
}