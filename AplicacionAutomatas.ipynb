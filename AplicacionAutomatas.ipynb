{
  "nbformat": 4,
  "nbformat_minor": 0,
  "metadata": {
    "colab": {
      "provenance": [],
      "authorship_tag": "ABX9TyMF/K9EDCXkNsMVsyH4al0Q",
      "include_colab_link": true
    },
    "kernelspec": {
      "name": "python3",
      "display_name": "Python 3"
    },
    "language_info": {
      "name": "python"
    }
  },
  "cells": [
    {
      "cell_type": "markdown",
      "metadata": {
        "id": "view-in-github",
        "colab_type": "text"
      },
      "source": [
        "<a href=\"https://colab.research.google.com/github/seismomat/HerramientasComputacionales/blob/main/AplicacionAutomatas.ipynb\" target=\"_parent\"><img src=\"https://colab.research.google.com/assets/colab-badge.svg\" alt=\"Open In Colab\"/></a>"
      ]
    },
    {
      "cell_type": "code",
      "execution_count": 4,
      "metadata": {
        "colab": {
          "base_uri": "https://localhost:8080/"
        },
        "id": "4zERvf2FQYZj",
        "outputId": "4a0b8de2-75ab-4b12-9c10-0b891d63be22"
      },
      "outputs": [
        {
          "output_type": "stream",
          "name": "stderr",
          "text": [
            "<ipython-input-4-b98b72851ae9>:42: MatplotlibDeprecationWarning: The tostring_rgb function was deprecated in Matplotlib 3.8 and will be removed two minor releases later. Use buffer_rgba instead.\n",
            "  image = np.frombuffer(fig.canvas.tostring_rgb(), dtype='uint8')\n",
            "WARNING:imageio_ffmpeg:IMAGEIO FFMPEG_WRITER WARNING: input image is not divisible by macro_block_size=16, resizing from (800, 600) to (800, 608) to ensure video compatibility with most codecs and players. To prevent resizing, make your input image divisible by the macro_block_size or set the macro_block_size to 1 (risking incompatibility).\n"
          ]
        },
        {
          "output_type": "stream",
          "name": "stdout",
          "text": [
            "Video guardado como automata_rule90.mp4\n"
          ]
        }
      ],
      "source": [
        "import numpy as np\n",
        "import matplotlib.pyplot as plt\n",
        "import imageio.v2 as imageio\n",
        "\n",
        "class Automata1D:\n",
        "    def __init__(self, name, B,factor):\n",
        "        self.name = name\n",
        "        self.B = B\n",
        "        self.factor = factor\n",
        "        self.size = len(self.B) - self.factor\n",
        "        self.nstep = self.size\n",
        "        self.frames = []  # Lista para almacenar los cuadros para el video\n",
        "\n",
        "    def Rule90(self, I, C, D):\n",
        "        if (I == 0 and C == 0 and D == 0) or (I == 1 and C == 0 and D == 1) or (I == 0 and C == 1 and D == 0) or (I == 1 and C == 1 and D == 1):\n",
        "            return 0\n",
        "        else:\n",
        "            return 1\n",
        "\n",
        "    def Rule104(self, I, C, D):\n",
        "        if (I == 0 and C == 0 and D == 1) or (I == 0 and C == 1 and D == 0) or (I == 1 and C == 0 and D == 0):\n",
        "            return 1\n",
        "        else:\n",
        "            return 0\n",
        "\n",
        "    def run(self):\n",
        "        C = np.zeros((self.size + self.factor, self.size + self.factor), dtype=int)\n",
        "        A = np.zeros_like(self.B)\n",
        "\n",
        "        for k in range(self.nstep):\n",
        "            A = np.copy(self.B)\n",
        "            C[k] = np.copy(self.B)\n",
        "\n",
        "            # Crear la figura de cada paso\n",
        "            fig, ax = plt.subplots(figsize=(8, 6), facecolor='purple')\n",
        "            ax.imshow(C, animated=True, aspect='auto', cmap=plt.cm.gray)\n",
        "            ax.axis('off')\n",
        "            plt.close(fig)  # Cerrar la figura para no mostrarla en el notebook\n",
        "\n",
        "            # Convertir la figura en una imagen y guardarla en la lista de frames\n",
        "            fig.canvas.draw()\n",
        "            image = np.frombuffer(fig.canvas.tostring_rgb(), dtype='uint8')\n",
        "            image = image.reshape(fig.canvas.get_width_height()[::-1] + (3,))\n",
        "            self.frames.append(image)\n",
        "\n",
        "            # Actualizar los valores según la regla seleccionada\n",
        "            for i in range(1, self.size + 1):\n",
        "                if self.name == \"Rule104\":\n",
        "                    self.B[i] = self.Rule104(A[i-1], A[i], A[i+1])\n",
        "                elif self.name == \"Rule90\":\n",
        "                    self.B[i] = self.Rule90(A[i-1], A[i], A[i+1])\n",
        "\n",
        "            # Ajustar las fronteras\n",
        "            self.B[0] = self.B[-2]\n",
        "            self.B[-1] = self.B[1]\n",
        "\n",
        "    def save_video(self, filename='automata1D.mp4', fps=10):\n",
        "        # Guardar el video a partir de los cuadros almacenados\n",
        "        imageio.mimsave(filename, self.frames, fps=fps)\n",
        "        print(f\"Video guardado como {filename}\")\n",
        "\n",
        "# Ejemplo de uso\n",
        "size=101;# longitud del arreglo\n",
        "factor=2 # correccion debido a la frontera pegada\n",
        "pos=round((size+factor)/2) # posicion de la condicion inicial\n",
        "B=np.zeros(size+factor,dtype=int) # condicion inicial\n",
        "B[pos]=1\n",
        "automata=Automata1D(\"Rule104\",B,factor) # programa que corre con la regla 104\n",
        "automata.run()\n",
        "automata.save_video('automata_rule90.mp4', fps=10)\n"
      ]
    },
    {
      "cell_type": "code",
      "source": [],
      "metadata": {
        "id": "SQ6l67ctRJNR"
      },
      "execution_count": null,
      "outputs": []
    }
  ]
}