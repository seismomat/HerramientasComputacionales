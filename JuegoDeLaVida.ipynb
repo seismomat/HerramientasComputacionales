{
  "nbformat": 4,
  "nbformat_minor": 0,
  "metadata": {
    "colab": {
      "provenance": [],
      "authorship_tag": "ABX9TyMYbwALxuH9I857H6r3o8e8",
      "include_colab_link": true
    },
    "kernelspec": {
      "name": "python3",
      "display_name": "Python 3"
    },
    "language_info": {
      "name": "python"
    }
  },
  "cells": [
    {
      "cell_type": "markdown",
      "metadata": {
        "id": "view-in-github",
        "colab_type": "text"
      },
      "source": [
        "<a href=\"https://colab.research.google.com/github/seismomat/HerramientasComputacionales/blob/main/JuegoDeLaVida.ipynb\" target=\"_parent\"><img src=\"https://colab.research.google.com/assets/colab-badge.svg\" alt=\"Open In Colab\"/></a>"
      ]
    },
    {
      "cell_type": "code",
      "execution_count": 1,
      "metadata": {
        "id": "ilTtwi6B6XR_"
      },
      "outputs": [],
      "source": [
        "import numpy as np\n",
        "import matplotlib.pyplot as plt\n",
        "import imageio.v2 as imageio"
      ]
    },
    {
      "cell_type": "code",
      "source": [
        "#Parametros del modelo\n",
        "size=103\n",
        "pos=round(size/2)\n",
        "B=np.zeros((size,size),dtype=int)\n",
        "B[pos,:]=1 #condicion inicial"
      ],
      "metadata": {
        "id": "i6zM0a2A6XsE"
      },
      "execution_count": 2,
      "outputs": []
    },
    {
      "cell_type": "code",
      "source": [
        "class Automata2D:\n",
        "  def __init__(self,B):\n",
        "    #constructor de la clase\n",
        "    self.B=B\n",
        "    self.size=len(self.B)\n",
        "    self.frames=[] #lista donde se guardan\n",
        "    #las imagenes para la simulacion\n",
        "    self.nsteps=2*self.size #pasos de simulacion\n",
        "\n",
        "  def GameLife(self,cell,center):\n",
        "    sum=np.sum(cell)\n",
        "    if center==1:\n",
        "      if sum==2 or sum==3:\n",
        "        return 1\n",
        "      else:\n",
        "        return 0\n",
        "    else:\n",
        "      if sum==3:\n",
        "        return 1\n",
        "      else:\n",
        "        return 0\n",
        "\n",
        "  def plot(self,C):\n",
        "    #crear la figura de cada paso\n",
        "    fig,ax=plt.subplots(figsize=(8,6))\n",
        "    ax.imshow(C,animated=True,aspect='auto',cmap=\"gray\")\n",
        "    ax.axis(\"off\")\n",
        "    plt.close(fig)# cerrar el canvas para que no se muestre\n",
        "\n",
        "    # convertir la figura en imagen y guardar los frames\n",
        "    fig.canvas.draw()\n",
        "    image=np.frombuffer(fig.canvas.tostring_rgb(),dtype=np.uint8)\n",
        "    image=image.reshape(fig.canvas.get_width_height()[::-1]+(3,))\n",
        "    return image\n",
        "\n",
        "\n",
        "  def Run(self):\n",
        "    C=np.zeros((self.size,self.size),dtype=int)\n",
        "    #matriz de pixeles para la simulacion\n",
        "    A=np.copy(self.B)# vector de la condicion inicial\n",
        "    #aca se tenia antes\n",
        "    for k in range(self.nsteps):\n",
        "      A=np.copy(self.B)# vector de la condicion inicial\n",
        "      C=np.copy(self.B)\n",
        "      # se guardan las imagenes para la simulacion\n",
        "      self.frames.append(self.plot(C))\n",
        "\n",
        "      cell=np.zeros(8,dtype=int)\n",
        "      for i in range(2,self.size-1):\n",
        "        for j in range(2,self.size-1):\n",
        "          cell[0]=A[i-1][j-1];cell[1]=A[i-1][j];cell[2]=A[i-1][j+1];\n",
        "          cell[3]=A[i][j-1];cell[4]=A[i][j+1];\n",
        "          cell[5]=A[i+1][j-1];cell[6]=A[i+1][j];cell[7]=A[i+1][j+1];\n",
        "\n",
        "          self.B[i,j]=self.GameLife(cell,A[i][j])\n",
        "\n",
        "      B[:,0]=B[:,-1]# tapas derecha igual a la izquierda\n",
        "      B[0,:]=B[-1,:]# tapa superior igual a la inferior\n",
        "\n",
        "  def save_video(self,filename='Automata2D.mp4',fps=10):\n",
        "    imageio.mimsave(filename,self.frames,fps=fps)\n",
        "    print(f\"Video Guardado como {filename}\")"
      ],
      "metadata": {
        "id": "njSeikOe6X1D"
      },
      "execution_count": 3,
      "outputs": []
    },
    {
      "cell_type": "code",
      "source": [
        "#CREAMOS LA INSTANCIA DE CLASE\n",
        "automata=Automata2D(B)\n",
        "automata.Run()\n",
        "automata.save_video('JuegoDeLaVida.mp4')"
      ],
      "metadata": {
        "colab": {
          "base_uri": "https://localhost:8080/"
        },
        "id": "uob_wyur61lN",
        "outputId": "07c0e7e1-e2d6-4879-ac00-e587822f8376"
      },
      "execution_count": 4,
      "outputs": [
        {
          "output_type": "stream",
          "name": "stderr",
          "text": [
            "<ipython-input-3-ebd5401f0c50>:32: MatplotlibDeprecationWarning: The tostring_rgb function was deprecated in Matplotlib 3.8 and will be removed two minor releases later. Use buffer_rgba instead.\n",
            "  image=np.frombuffer(fig.canvas.tostring_rgb(),dtype=np.uint8)\n",
            "WARNING:imageio_ffmpeg:IMAGEIO FFMPEG_WRITER WARNING: input image is not divisible by macro_block_size=16, resizing from (800, 600) to (800, 608) to ensure video compatibility with most codecs and players. To prevent resizing, make your input image divisible by the macro_block_size or set the macro_block_size to 1 (risking incompatibility).\n"
          ]
        },
        {
          "output_type": "stream",
          "name": "stdout",
          "text": [
            "Video Guardado como JuegoDeLaVida.mp4\n"
          ]
        }
      ]
    },
    {
      "cell_type": "code",
      "source": [],
      "metadata": {
        "id": "YJuyRWr08Pnf"
      },
      "execution_count": 4,
      "outputs": []
    },
    {
      "cell_type": "code",
      "source": [],
      "metadata": {
        "id": "VvQ_adv18Qnc"
      },
      "execution_count": 4,
      "outputs": []
    }
  ]
}