{
  "nbformat": 4,
  "nbformat_minor": 0,
  "metadata": {
    "colab": {
      "provenance": [],
      "authorship_tag": "ABX9TyNN4JAiXVyfjunB/n1RgtD9",
      "include_colab_link": true
    },
    "kernelspec": {
      "name": "python3",
      "display_name": "Python 3"
    },
    "language_info": {
      "name": "python"
    }
  },
  "cells": [
    {
      "cell_type": "markdown",
      "metadata": {
        "id": "view-in-github",
        "colab_type": "text"
      },
      "source": [
        "<a href=\"https://colab.research.google.com/github/seismomat/HerramientasComputacionales/blob/main/Automata_Chido.ipynb\" target=\"_parent\"><img src=\"https://colab.research.google.com/assets/colab-badge.svg\" alt=\"Open In Colab\"/></a>"
      ]
    },
    {
      "cell_type": "code",
      "execution_count": 1,
      "metadata": {
        "id": "B9q6WNuIkdWI"
      },
      "outputs": [],
      "source": [
        "import numpy as np\n",
        "import matplotlib.pyplot as plt\n",
        "import imageio.v2 as imageio"
      ]
    },
    {
      "cell_type": "code",
      "source": [
        "#Parametros del modelo\n",
        "size=103\n",
        "pos=round(size/2)\n",
        "B=np.zeros(size,dtype=int)\n",
        "B[pos]=1 #condicion inicial"
      ],
      "metadata": {
        "id": "heAEq2WSklfb"
      },
      "execution_count": 2,
      "outputs": []
    },
    {
      "cell_type": "code",
      "source": [
        "class Automata1D:\n",
        "  def __init__(self,B,name):\n",
        "    #constructor de la clase\n",
        "    self.B=B\n",
        "    self.name=name\n",
        "    self.size=len(self.B)\n",
        "    self.frames=[] #lista donde se guardan\n",
        "    #las imagenes para la simulacion\n",
        "    self.nsteps=self.size #pasos de simulacion\n",
        "\n",
        "  def Rule104(self,L,C,R):\n",
        "    # L left, C centra, R right\n",
        "    if L==1 and C==0 and R==0:\n",
        "      return 1\n",
        "    elif L==0 and C==1 and R==0:\n",
        "      return 1\n",
        "    elif L==0 and C==0 and R==1:\n",
        "      return 1\n",
        "    else:\n",
        "      return 0\n",
        "\n",
        "  def plot(self,C):\n",
        "    #crear la figura de cada paso\n",
        "    fig,ax=plt.subplots(figsize=(8,6))\n",
        "    ax.imshow(C,animated=True,aspect='auto',cmap=\"gray\")\n",
        "    ax.axis(\"off\")\n",
        "    plt.close(fig)# cerrar el canvas para que no se muestre\n",
        "\n",
        "    # convertir la figura en imagen y guardar los frames\n",
        "    fig.canvas.draw()\n",
        "    image=np.frombuffer(fig.canvas.tostring_rgb(),dtype=np.uint8)\n",
        "    image=image.reshape(fig.canvas.get_width_height()[::-1]+(3,))\n",
        "    return image\n",
        "\n",
        "\n",
        "  def Run(self):\n",
        "    C=np.zeros((self.size,self.size),dtype=int)\n",
        "    #matriz de pixeles para la simulacion\n",
        "    A=np.copy(self.B)# vector de la condicion inicial\n",
        "    #aca se tenia antes\n",
        "    for k in range(self.nsteps):\n",
        "      A=np.copy(self.B)# vector de la condicion inicial\n",
        "      C[k]=np.copy( self.B)\n",
        "\n",
        "      # se guardan las imagenes para la simulacion\n",
        "      self.frames.append(self.plot(C))\n",
        "\n",
        "      if self.name==\"Rule104\":\n",
        "        for i in range(self.size):\n",
        "          if i==0:\n",
        "            self.B[i]=self.Rule104(A[-1],A[0],A[1])\n",
        "            # se tenia A[i] en lugar de self.B[i]\n",
        "          elif i==self.size-1:\n",
        "            self.B[i]=self.Rule104(A[-2],A[-1],A[0])\n",
        "          else:\n",
        "             self.B[i]=self.Rule104(A[i-1],A[i],A[i+1])\n",
        "\n",
        "  def save_video(self,filename='Automata1D.mp4',fps=10):\n",
        "    imageio.mimsave(filename,self.frames,fps=fps)\n",
        "    print(f\"Video Guardado como {filename}\")"
      ],
      "metadata": {
        "id": "XArJKbHUqiY1"
      },
      "execution_count": 3,
      "outputs": []
    },
    {
      "cell_type": "code",
      "source": [
        "#CREAMOS LA INSTANCIA DE CLASE\n",
        "automata=Automata1D(B,\"Rule104\")\n",
        "automata.Run()\n",
        "automata.save_video('MiPrimerVideo.mp4')"
      ],
      "metadata": {
        "colab": {
          "base_uri": "https://localhost:8080/"
        },
        "id": "O3gpDIs_xiSf",
        "outputId": "841acef7-b6c9-43b0-9a9e-38ff2aa3639a"
      },
      "execution_count": 4,
      "outputs": [
        {
          "output_type": "stream",
          "name": "stderr",
          "text": [
            "<ipython-input-3-f10d3defeccd>:31: MatplotlibDeprecationWarning: The tostring_rgb function was deprecated in Matplotlib 3.8 and will be removed two minor releases later. Use buffer_rgba instead.\n",
            "  image=np.frombuffer(fig.canvas.tostring_rgb(),dtype=np.uint8)\n",
            "WARNING:imageio_ffmpeg:IMAGEIO FFMPEG_WRITER WARNING: input image is not divisible by macro_block_size=16, resizing from (800, 600) to (800, 608) to ensure video compatibility with most codecs and players. To prevent resizing, make your input image divisible by the macro_block_size or set the macro_block_size to 1 (risking incompatibility).\n"
          ]
        },
        {
          "output_type": "stream",
          "name": "stdout",
          "text": [
            "Video Guardado como MiPrimerVideo.mp4\n"
          ]
        }
      ]
    },
    {
      "cell_type": "code",
      "source": [
        "pwd"
      ],
      "metadata": {
        "colab": {
          "base_uri": "https://localhost:8080/",
          "height": 36
        },
        "id": "KAr5LpDJxsk8",
        "outputId": "acdfad72-63ad-4f8c-b82b-64d0ad0dbfd4"
      },
      "execution_count": 5,
      "outputs": [
        {
          "output_type": "execute_result",
          "data": {
            "text/plain": [
              "'/content'"
            ],
            "application/vnd.google.colaboratory.intrinsic+json": {
              "type": "string"
            }
          },
          "metadata": {},
          "execution_count": 5
        }
      ]
    }
  ]
}